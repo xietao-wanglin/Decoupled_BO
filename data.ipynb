{
 "cells": [
  {
   "cell_type": "code",
   "execution_count": 16,
   "id": "0536e1fa-38ed-4430-84a2-446dc048d954",
   "metadata": {
    "tags": []
   },
   "outputs": [],
   "source": [
    "import pandas as pd"
   ]
  },
  {
   "cell_type": "code",
   "execution_count": 17,
   "id": "a1c16b9c-8abc-46ee-81dc-abb310d12473",
   "metadata": {
    "tags": []
   },
   "outputs": [
    {
     "data": {
      "text/plain": [
       "{'path': 'results/constrained_branin_0.pkl',\n",
       " 'filename': 'constrained_branin_0.pkl',\n",
       " 'number_initial_designs': 6,\n",
       " 'budget': 5,\n",
       " 'performance_type': 'model',\n",
       " 'seed': 0,\n",
       " 'input_data': [tensor([[0.9701, 0.7078],\n",
       "          [0.4594, 0.9207],\n",
       "          [0.6450, 0.7911],\n",
       "          [0.1786, 0.3511],\n",
       "          [0.5813, 0.2882],\n",
       "          [0.4529, 0.1768],\n",
       "          [0.0937, 0.5439],\n",
       "          [0.0613, 0.0492]], dtype=torch.float64),\n",
       "  tensor([[0.3553, 0.6219],\n",
       "          [0.4818, 0.4408],\n",
       "          [0.4073, 0.2054],\n",
       "          [0.6650, 0.7849],\n",
       "          [0.2104, 0.6767],\n",
       "          [0.1097, 0.5238],\n",
       "          [0.0960, 0.4989],\n",
       "          [0.0961, 0.4455],\n",
       "          [0.0954, 0.1878]], dtype=torch.float64)],\n",
       " 'output_data': [tensor([ 65.0184, 114.2807, 119.5681,  29.7001,   7.9946,   8.7110,  28.7505,\n",
       "          197.7420], dtype=torch.float64),\n",
       "  tensor([[41.9431],\n",
       "          [49.1373],\n",
       "          [28.5433],\n",
       "          [25.6121],\n",
       "          [24.0970],\n",
       "          [15.6041],\n",
       "          [13.2733],\n",
       "          [12.6216],\n",
       "          [-8.7636]], dtype=torch.float64)],\n",
       " 'best_predicted_location': [tensor([[0.0213, 0.6944]], dtype=torch.float64),\n",
       "  tensor([[0.0000, 0.5187]], dtype=torch.float64),\n",
       "  tensor([[0.0000, 0.4467]], dtype=torch.float64),\n",
       "  tensor([[0.0000, 0.4275]], dtype=torch.float64),\n",
       "  tensor([[0.0543, 0.1518]], dtype=torch.float64)],\n",
       " 'best_predicted_location_value': [tensor([44.0780], dtype=torch.float64),\n",
       "  tensor([101.2115], dtype=torch.float64),\n",
       "  tensor([122.6942], dtype=torch.float64),\n",
       "  tensor([128.8144], dtype=torch.float64),\n",
       "  tensor([165.0816], dtype=torch.float64)],\n",
       " 'acqf_recommended_location': [tensor([[0.0960, 0.4989]], dtype=torch.float64),\n",
       "  tensor([[0.0961, 0.4455]], dtype=torch.float64),\n",
       "  tensor([[0.0964, 0.4441]], dtype=torch.float64),\n",
       "  tensor([[0.0954, 0.1878]], dtype=torch.float64),\n",
       "  tensor([[0.0209, 0.0999]], dtype=torch.float64)],\n",
       " 'acqf_recommended_location_value': [tensor([-0.]),\n",
       "  tensor([-0.]),\n",
       "  tensor([-0.]),\n",
       "  tensor([111.7020], dtype=torch.float64),\n",
       "  tensor([228.7318], dtype=torch.float64)],\n",
       " 'acqf_recommended_output_index:': [tensor(1),\n",
       "  tensor(1),\n",
       "  tensor(0),\n",
       "  tensor(1),\n",
       "  tensor(0)]}"
      ]
     },
     "execution_count": 17,
     "metadata": {},
     "output_type": "execute_result"
    }
   ],
   "source": [
    "df = pd.read_pickle('./results/constrained_branin_0.pkl')\n",
    "df"
   ]
  },
  {
   "cell_type": "code",
   "execution_count": null,
   "id": "0fd8d2f4-6de9-4923-b946-b417d1086df4",
   "metadata": {},
   "outputs": [],
   "source": []
  }
 ],
 "metadata": {
  "kernelspec": {
   "display_name": "Python 3 (ipykernel)",
   "language": "python",
   "name": "python3"
  },
  "language_info": {
   "codemirror_mode": {
    "name": "ipython",
    "version": 3
   },
   "file_extension": ".py",
   "mimetype": "text/x-python",
   "name": "python",
   "nbconvert_exporter": "python",
   "pygments_lexer": "ipython3",
   "version": "3.11.4"
  }
 },
 "nbformat": 4,
 "nbformat_minor": 5
}
